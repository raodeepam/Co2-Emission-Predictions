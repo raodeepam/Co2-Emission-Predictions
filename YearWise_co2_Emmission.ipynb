{
  "nbformat": 4,
  "nbformat_minor": 0,
  "metadata": {
    "colab": {
      "provenance": []
    },
    "kernelspec": {
      "name": "python3",
      "display_name": "Python 3"
    },
    "language_info": {
      "name": "python"
    }
  },
  "cells": [
    {
      "cell_type": "code",
      "execution_count": null,
      "metadata": {
        "id": "6md0fXSluVgt"
      },
      "outputs": [],
      "source": [
        "import pandas as pd"
      ]
    },
    {
      "cell_type": "code",
      "source": [
        "df = pd.read_csv('/content/owid-co2-data.csv')"
      ],
      "metadata": {
        "id": "LcmQiW2Mu6-N"
      },
      "execution_count": null,
      "outputs": []
    },
    {
      "cell_type": "code",
      "source": [
        "df.shape"
      ],
      "metadata": {
        "colab": {
          "base_uri": "https://localhost:8080/"
        },
        "id": "0yYKSFS7vG6L",
        "outputId": "af176ca1-92fa-4b7e-8c44-0131c74b441a"
      },
      "execution_count": null,
      "outputs": [
        {
          "output_type": "execute_result",
          "data": {
            "text/plain": [
              "(46523, 74)"
            ]
          },
          "metadata": {},
          "execution_count": 3
        }
      ]
    },
    {
      "cell_type": "code",
      "source": [
        "df.info()"
      ],
      "metadata": {
        "colab": {
          "base_uri": "https://localhost:8080/"
        },
        "id": "hwx8M3yPvcgY",
        "outputId": "8aaab07b-d1c2-40ed-ab99-aa8cbdf68877"
      },
      "execution_count": null,
      "outputs": [
        {
          "output_type": "stream",
          "name": "stdout",
          "text": [
            "<class 'pandas.core.frame.DataFrame'>\n",
            "RangeIndex: 46523 entries, 0 to 46522\n",
            "Data columns (total 74 columns):\n",
            " #   Column                                     Non-Null Count  Dtype  \n",
            "---  ------                                     --------------  -----  \n",
            " 0   country                                    46523 non-null  object \n",
            " 1   year                                       46523 non-null  int64  \n",
            " 2   iso_code                                   39862 non-null  object \n",
            " 3   population                                 38574 non-null  float64\n",
            " 4   gdp                                        14551 non-null  float64\n",
            " 5   cement_co2                                 24974 non-null  float64\n",
            " 6   cement_co2_per_capita                      22714 non-null  float64\n",
            " 7   co2                                        31349 non-null  float64\n",
            " 8   co2_growth_abs                             28944 non-null  float64\n",
            " 9   co2_growth_prct                            25032 non-null  float64\n",
            " 10  co2_including_luc                          24212 non-null  float64\n",
            " 11  co2_including_luc_growth_abs               23909 non-null  float64\n",
            " 12  co2_including_luc_growth_prct              24129 non-null  float64\n",
            " 13  co2_including_luc_per_capita               23690 non-null  float64\n",
            " 14  co2_including_luc_per_gdp                  15701 non-null  float64\n",
            " 15  co2_including_luc_per_unit_energy          9528 non-null   float64\n",
            " 16  co2_per_capita                             26915 non-null  float64\n",
            " 17  co2_per_gdp                                16291 non-null  float64\n",
            " 18  co2_per_unit_energy                        10054 non-null  float64\n",
            " 19  coal_co2                                   25069 non-null  float64\n",
            " 20  coal_co2_per_capita                        24421 non-null  float64\n",
            " 21  consumption_co2                            4600 non-null   float64\n",
            " 22  consumption_co2_per_capita                 4227 non-null   float64\n",
            " 23  consumption_co2_per_gdp                    3898 non-null   float64\n",
            " 24  cumulative_cement_co2                      24873 non-null  float64\n",
            " 25  cumulative_co2                             29356 non-null  float64\n",
            " 26  cumulative_co2_including_luc               24212 non-null  float64\n",
            " 27  cumulative_coal_co2                        24968 non-null  float64\n",
            " 28  cumulative_flaring_co2                     24774 non-null  float64\n",
            " 29  cumulative_gas_co2                         24842 non-null  float64\n",
            " 30  cumulative_luc_co2                         39388 non-null  float64\n",
            " 31  cumulative_oil_co2                         24941 non-null  float64\n",
            " 32  cumulative_other_co2                       2386 non-null   float64\n",
            " 33  energy_per_capita                          9987 non-null   float64\n",
            " 34  energy_per_gdp                             7159 non-null   float64\n",
            " 35  flaring_co2                                24875 non-null  float64\n",
            " 36  flaring_co2_per_capita                     24272 non-null  float64\n",
            " 37  gas_co2                                    24943 non-null  float64\n",
            " 38  gas_co2_per_capita                         24340 non-null  float64\n",
            " 39  ghg_excluding_lucf_per_capita              6119 non-null   float64\n",
            " 40  ghg_per_capita                             6119 non-null   float64\n",
            " 41  land_use_change_co2                        39388 non-null  float64\n",
            " 42  land_use_change_co2_per_capita             36026 non-null  float64\n",
            " 43  methane                                    6150 non-null   float64\n",
            " 44  methane_per_capita                         6120 non-null   float64\n",
            " 45  nitrous_oxide                              6150 non-null   float64\n",
            " 46  nitrous_oxide_per_capita                   6120 non-null   float64\n",
            " 47  oil_co2                                    25042 non-null  float64\n",
            " 48  oil_co2_per_capita                         24367 non-null  float64\n",
            " 49  other_co2_per_capita                       2386 non-null   float64\n",
            " 50  other_industry_co2                         2386 non-null   float64\n",
            " 51  primary_energy_consumption                 10085 non-null  float64\n",
            " 52  share_global_cement_co2                    20830 non-null  float64\n",
            " 53  share_global_co2                           29356 non-null  float64\n",
            " 54  share_global_co2_including_luc             24212 non-null  float64\n",
            " 55  share_global_coal_co2                      24968 non-null  float64\n",
            " 56  share_global_cumulative_cement_co2         20830 non-null  float64\n",
            " 57  share_global_cumulative_co2                29356 non-null  float64\n",
            " 58  share_global_cumulative_co2_including_luc  24212 non-null  float64\n",
            " 59  share_global_cumulative_coal_co2           24968 non-null  float64\n",
            " 60  share_global_cumulative_flaring_co2        15980 non-null  float64\n",
            " 61  share_global_cumulative_gas_co2            21990 non-null  float64\n",
            " 62  share_global_cumulative_luc_co2            39388 non-null  float64\n",
            " 63  share_global_cumulative_oil_co2            23421 non-null  float64\n",
            " 64  share_global_cumulative_other_co2          2386 non-null   float64\n",
            " 65  share_global_flaring_co2                   15980 non-null  float64\n",
            " 66  share_global_gas_co2                       21990 non-null  float64\n",
            " 67  share_global_luc_co2                       39388 non-null  float64\n",
            " 68  share_global_oil_co2                       23421 non-null  float64\n",
            " 69  share_global_other_co2                     2386 non-null   float64\n",
            " 70  total_ghg                                  6149 non-null   float64\n",
            " 71  total_ghg_excluding_lucf                   6149 non-null   float64\n",
            " 72  trade_co2                                  4259 non-null   float64\n",
            " 73  trade_co2_share                            4258 non-null   float64\n",
            "dtypes: float64(71), int64(1), object(2)\n",
            "memory usage: 26.3+ MB\n"
          ]
        }
      ]
    },
    {
      "cell_type": "code",
      "source": [
        "df_for_yw = df[ ['country', 'year','co2'] ]\n",
        "df_for_yw.info()"
      ],
      "metadata": {
        "colab": {
          "base_uri": "https://localhost:8080/"
        },
        "id": "absGUcbgxbi-",
        "outputId": "b45b1eb8-3736-49a2-bd20-9ca14c5229e2"
      },
      "execution_count": null,
      "outputs": [
        {
          "output_type": "stream",
          "name": "stdout",
          "text": [
            "<class 'pandas.core.frame.DataFrame'>\n",
            "RangeIndex: 46523 entries, 0 to 46522\n",
            "Data columns (total 3 columns):\n",
            " #   Column   Non-Null Count  Dtype  \n",
            "---  ------   --------------  -----  \n",
            " 0   country  46523 non-null  object \n",
            " 1   year     46523 non-null  int64  \n",
            " 2   co2      31349 non-null  float64\n",
            "dtypes: float64(1), int64(1), object(1)\n",
            "memory usage: 1.1+ MB\n"
          ]
        }
      ]
    },
    {
      "cell_type": "code",
      "source": [
        "df_yw_clean = df_for_yw.dropna()\n",
        "df_yw_clean.shape"
      ],
      "metadata": {
        "colab": {
          "base_uri": "https://localhost:8080/"
        },
        "id": "MQw0XTkOyMie",
        "outputId": "d7bd9fb0-4d82-4fea-84c4-fd78b7621dd9"
      },
      "execution_count": null,
      "outputs": [
        {
          "output_type": "execute_result",
          "data": {
            "text/plain": [
              "(31349, 3)"
            ]
          },
          "metadata": {},
          "execution_count": 6
        }
      ]
    },
    {
      "cell_type": "code",
      "source": [
        "df_yw_clean"
      ],
      "metadata": {
        "colab": {
          "base_uri": "https://localhost:8080/",
          "height": 423
        },
        "id": "d0tiGYRWybGv",
        "outputId": "bbc7c6a7-4e26-4ed0-be5c-7a9f015cab89"
      },
      "execution_count": null,
      "outputs": [
        {
          "output_type": "execute_result",
          "data": {
            "text/plain": [
              "           country  year     co2\n",
              "99     Afghanistan  1949   0.015\n",
              "100    Afghanistan  1950   0.084\n",
              "101    Afghanistan  1951   0.092\n",
              "102    Afghanistan  1952   0.092\n",
              "103    Afghanistan  1953   0.106\n",
              "...            ...   ...     ...\n",
              "46518     Zimbabwe  2017   9.596\n",
              "46519     Zimbabwe  2018  11.795\n",
              "46520     Zimbabwe  2019  11.115\n",
              "46521     Zimbabwe  2020  10.608\n",
              "46522     Zimbabwe  2021  11.296\n",
              "\n",
              "[31349 rows x 3 columns]"
            ],
            "text/html": [
              "\n",
              "  <div id=\"df-ec89745a-424c-433b-9460-76670e39b217\">\n",
              "    <div class=\"colab-df-container\">\n",
              "      <div>\n",
              "<style scoped>\n",
              "    .dataframe tbody tr th:only-of-type {\n",
              "        vertical-align: middle;\n",
              "    }\n",
              "\n",
              "    .dataframe tbody tr th {\n",
              "        vertical-align: top;\n",
              "    }\n",
              "\n",
              "    .dataframe thead th {\n",
              "        text-align: right;\n",
              "    }\n",
              "</style>\n",
              "<table border=\"1\" class=\"dataframe\">\n",
              "  <thead>\n",
              "    <tr style=\"text-align: right;\">\n",
              "      <th></th>\n",
              "      <th>country</th>\n",
              "      <th>year</th>\n",
              "      <th>co2</th>\n",
              "    </tr>\n",
              "  </thead>\n",
              "  <tbody>\n",
              "    <tr>\n",
              "      <th>99</th>\n",
              "      <td>Afghanistan</td>\n",
              "      <td>1949</td>\n",
              "      <td>0.015</td>\n",
              "    </tr>\n",
              "    <tr>\n",
              "      <th>100</th>\n",
              "      <td>Afghanistan</td>\n",
              "      <td>1950</td>\n",
              "      <td>0.084</td>\n",
              "    </tr>\n",
              "    <tr>\n",
              "      <th>101</th>\n",
              "      <td>Afghanistan</td>\n",
              "      <td>1951</td>\n",
              "      <td>0.092</td>\n",
              "    </tr>\n",
              "    <tr>\n",
              "      <th>102</th>\n",
              "      <td>Afghanistan</td>\n",
              "      <td>1952</td>\n",
              "      <td>0.092</td>\n",
              "    </tr>\n",
              "    <tr>\n",
              "      <th>103</th>\n",
              "      <td>Afghanistan</td>\n",
              "      <td>1953</td>\n",
              "      <td>0.106</td>\n",
              "    </tr>\n",
              "    <tr>\n",
              "      <th>...</th>\n",
              "      <td>...</td>\n",
              "      <td>...</td>\n",
              "      <td>...</td>\n",
              "    </tr>\n",
              "    <tr>\n",
              "      <th>46518</th>\n",
              "      <td>Zimbabwe</td>\n",
              "      <td>2017</td>\n",
              "      <td>9.596</td>\n",
              "    </tr>\n",
              "    <tr>\n",
              "      <th>46519</th>\n",
              "      <td>Zimbabwe</td>\n",
              "      <td>2018</td>\n",
              "      <td>11.795</td>\n",
              "    </tr>\n",
              "    <tr>\n",
              "      <th>46520</th>\n",
              "      <td>Zimbabwe</td>\n",
              "      <td>2019</td>\n",
              "      <td>11.115</td>\n",
              "    </tr>\n",
              "    <tr>\n",
              "      <th>46521</th>\n",
              "      <td>Zimbabwe</td>\n",
              "      <td>2020</td>\n",
              "      <td>10.608</td>\n",
              "    </tr>\n",
              "    <tr>\n",
              "      <th>46522</th>\n",
              "      <td>Zimbabwe</td>\n",
              "      <td>2021</td>\n",
              "      <td>11.296</td>\n",
              "    </tr>\n",
              "  </tbody>\n",
              "</table>\n",
              "<p>31349 rows × 3 columns</p>\n",
              "</div>\n",
              "      <button class=\"colab-df-convert\" onclick=\"convertToInteractive('df-ec89745a-424c-433b-9460-76670e39b217')\"\n",
              "              title=\"Convert this dataframe to an interactive table.\"\n",
              "              style=\"display:none;\">\n",
              "        \n",
              "  <svg xmlns=\"http://www.w3.org/2000/svg\" height=\"24px\"viewBox=\"0 0 24 24\"\n",
              "       width=\"24px\">\n",
              "    <path d=\"M0 0h24v24H0V0z\" fill=\"none\"/>\n",
              "    <path d=\"M18.56 5.44l.94 2.06.94-2.06 2.06-.94-2.06-.94-.94-2.06-.94 2.06-2.06.94zm-11 1L8.5 8.5l.94-2.06 2.06-.94-2.06-.94L8.5 2.5l-.94 2.06-2.06.94zm10 10l.94 2.06.94-2.06 2.06-.94-2.06-.94-.94-2.06-.94 2.06-2.06.94z\"/><path d=\"M17.41 7.96l-1.37-1.37c-.4-.4-.92-.59-1.43-.59-.52 0-1.04.2-1.43.59L10.3 9.45l-7.72 7.72c-.78.78-.78 2.05 0 2.83L4 21.41c.39.39.9.59 1.41.59.51 0 1.02-.2 1.41-.59l7.78-7.78 2.81-2.81c.8-.78.8-2.07 0-2.86zM5.41 20L4 18.59l7.72-7.72 1.47 1.35L5.41 20z\"/>\n",
              "  </svg>\n",
              "      </button>\n",
              "      \n",
              "  <style>\n",
              "    .colab-df-container {\n",
              "      display:flex;\n",
              "      flex-wrap:wrap;\n",
              "      gap: 12px;\n",
              "    }\n",
              "\n",
              "    .colab-df-convert {\n",
              "      background-color: #E8F0FE;\n",
              "      border: none;\n",
              "      border-radius: 50%;\n",
              "      cursor: pointer;\n",
              "      display: none;\n",
              "      fill: #1967D2;\n",
              "      height: 32px;\n",
              "      padding: 0 0 0 0;\n",
              "      width: 32px;\n",
              "    }\n",
              "\n",
              "    .colab-df-convert:hover {\n",
              "      background-color: #E2EBFA;\n",
              "      box-shadow: 0px 1px 2px rgba(60, 64, 67, 0.3), 0px 1px 3px 1px rgba(60, 64, 67, 0.15);\n",
              "      fill: #174EA6;\n",
              "    }\n",
              "\n",
              "    [theme=dark] .colab-df-convert {\n",
              "      background-color: #3B4455;\n",
              "      fill: #D2E3FC;\n",
              "    }\n",
              "\n",
              "    [theme=dark] .colab-df-convert:hover {\n",
              "      background-color: #434B5C;\n",
              "      box-shadow: 0px 1px 3px 1px rgba(0, 0, 0, 0.15);\n",
              "      filter: drop-shadow(0px 1px 2px rgba(0, 0, 0, 0.3));\n",
              "      fill: #FFFFFF;\n",
              "    }\n",
              "  </style>\n",
              "\n",
              "      <script>\n",
              "        const buttonEl =\n",
              "          document.querySelector('#df-ec89745a-424c-433b-9460-76670e39b217 button.colab-df-convert');\n",
              "        buttonEl.style.display =\n",
              "          google.colab.kernel.accessAllowed ? 'block' : 'none';\n",
              "\n",
              "        async function convertToInteractive(key) {\n",
              "          const element = document.querySelector('#df-ec89745a-424c-433b-9460-76670e39b217');\n",
              "          const dataTable =\n",
              "            await google.colab.kernel.invokeFunction('convertToInteractive',\n",
              "                                                     [key], {});\n",
              "          if (!dataTable) return;\n",
              "\n",
              "          const docLinkHtml = 'Like what you see? Visit the ' +\n",
              "            '<a target=\"_blank\" href=https://colab.research.google.com/notebooks/data_table.ipynb>data table notebook</a>'\n",
              "            + ' to learn more about interactive tables.';\n",
              "          element.innerHTML = '';\n",
              "          dataTable['output_type'] = 'display_data';\n",
              "          await google.colab.output.renderOutput(dataTable, element);\n",
              "          const docLink = document.createElement('div');\n",
              "          docLink.innerHTML = docLinkHtml;\n",
              "          element.appendChild(docLink);\n",
              "        }\n",
              "      </script>\n",
              "    </div>\n",
              "  </div>\n",
              "  "
            ]
          },
          "metadata": {},
          "execution_count": 7
        }
      ]
    },
    {
      "cell_type": "code",
      "source": [
        "df_yw_clean.reset_index(inplace=True)"
      ],
      "metadata": {
        "id": "ixs3iYAR0Nd3"
      },
      "execution_count": null,
      "outputs": []
    },
    {
      "cell_type": "code",
      "source": [
        "df_yw_clean.info()"
      ],
      "metadata": {
        "colab": {
          "base_uri": "https://localhost:8080/"
        },
        "id": "3FYv8Osm0TQT",
        "outputId": "6c9eaf11-5269-4532-8c60-2ac8cd98a250"
      },
      "execution_count": null,
      "outputs": [
        {
          "output_type": "stream",
          "name": "stdout",
          "text": [
            "<class 'pandas.core.frame.DataFrame'>\n",
            "RangeIndex: 31349 entries, 0 to 31348\n",
            "Data columns (total 4 columns):\n",
            " #   Column   Non-Null Count  Dtype  \n",
            "---  ------   --------------  -----  \n",
            " 0   index    31349 non-null  int64  \n",
            " 1   country  31349 non-null  object \n",
            " 2   year     31349 non-null  int64  \n",
            " 3   co2      31349 non-null  float64\n",
            "dtypes: float64(1), int64(2), object(1)\n",
            "memory usage: 979.8+ KB\n"
          ]
        }
      ]
    },
    {
      "cell_type": "code",
      "source": [
        "df_yw_clean.drop('index',axis=1,inplace=True)"
      ],
      "metadata": {
        "colab": {
          "base_uri": "https://localhost:8080/"
        },
        "id": "J_9CZ2Vt0cTh",
        "outputId": "932f4ab6-d180-42b3-e1a4-d48266a09969"
      },
      "execution_count": null,
      "outputs": [
        {
          "output_type": "stream",
          "name": "stderr",
          "text": [
            "/usr/local/lib/python3.8/dist-packages/pandas/core/frame.py:4906: SettingWithCopyWarning: \n",
            "A value is trying to be set on a copy of a slice from a DataFrame\n",
            "\n",
            "See the caveats in the documentation: https://pandas.pydata.org/pandas-docs/stable/user_guide/indexing.html#returning-a-view-versus-a-copy\n",
            "  return super().drop(\n"
          ]
        }
      ]
    },
    {
      "cell_type": "code",
      "source": [
        "df_yw_clean.isna().sum()"
      ],
      "metadata": {
        "colab": {
          "base_uri": "https://localhost:8080/"
        },
        "id": "q2uAomeA0pNT",
        "outputId": "cc18ef87-6d9e-4a5e-dffa-ca4ca8413167"
      },
      "execution_count": null,
      "outputs": [
        {
          "output_type": "execute_result",
          "data": {
            "text/plain": [
              "country    0\n",
              "year       0\n",
              "co2        0\n",
              "dtype: int64"
            ]
          },
          "metadata": {},
          "execution_count": 11
        }
      ]
    },
    {
      "cell_type": "code",
      "source": [
        "df_yw_clean.year.min()"
      ],
      "metadata": {
        "colab": {
          "base_uri": "https://localhost:8080/"
        },
        "id": "MAZqVq2N0wQ6",
        "outputId": "9f3170c3-b164-4d97-f9c4-36b4d31bb0e8"
      },
      "execution_count": null,
      "outputs": [
        {
          "output_type": "execute_result",
          "data": {
            "text/plain": [
              "1750"
            ]
          },
          "metadata": {},
          "execution_count": 12
        }
      ]
    },
    {
      "cell_type": "code",
      "source": [
        "df_yw_clean.year.max()"
      ],
      "metadata": {
        "colab": {
          "base_uri": "https://localhost:8080/"
        },
        "id": "84QfTTTj1GgY",
        "outputId": "ea3594a8-6483-483e-916e-fd7836b6f893"
      },
      "execution_count": null,
      "outputs": [
        {
          "output_type": "execute_result",
          "data": {
            "text/plain": [
              "2021"
            ]
          },
          "metadata": {},
          "execution_count": 13
        }
      ]
    },
    {
      "cell_type": "code",
      "source": [
        "df_yw_clean.co2.min()"
      ],
      "metadata": {
        "colab": {
          "base_uri": "https://localhost:8080/"
        },
        "id": "yfOAExet1JFh",
        "outputId": "a9bd75a3-63b1-480f-e2b9-4e14971259ab"
      },
      "execution_count": null,
      "outputs": [
        {
          "output_type": "execute_result",
          "data": {
            "text/plain": [
              "0.0"
            ]
          },
          "metadata": {},
          "execution_count": 14
        }
      ]
    },
    {
      "cell_type": "code",
      "source": [
        "df_yw_clean.co2.max()"
      ],
      "metadata": {
        "colab": {
          "base_uri": "https://localhost:8080/"
        },
        "id": "LEfybYIR1Ory",
        "outputId": "5f0cf7fe-f99f-49c3-93ba-c1f0fa78da7a"
      },
      "execution_count": null,
      "outputs": [
        {
          "output_type": "execute_result",
          "data": {
            "text/plain": [
              "37123.852"
            ]
          },
          "metadata": {},
          "execution_count": 15
        }
      ]
    },
    {
      "cell_type": "code",
      "source": [
        "df_yw_clean.info()"
      ],
      "metadata": {
        "colab": {
          "base_uri": "https://localhost:8080/"
        },
        "id": "2wXXLCpP1gfL",
        "outputId": "2e37f8a6-40ae-447e-9971-54c5a0bf011b"
      },
      "execution_count": null,
      "outputs": [
        {
          "output_type": "stream",
          "name": "stdout",
          "text": [
            "<class 'pandas.core.frame.DataFrame'>\n",
            "RangeIndex: 31349 entries, 0 to 31348\n",
            "Data columns (total 3 columns):\n",
            " #   Column   Non-Null Count  Dtype  \n",
            "---  ------   --------------  -----  \n",
            " 0   country  31349 non-null  object \n",
            " 1   year     31349 non-null  int64  \n",
            " 2   co2      31349 non-null  float64\n",
            "dtypes: float64(1), int64(1), object(1)\n",
            "memory usage: 734.9+ KB\n"
          ]
        }
      ]
    },
    {
      "cell_type": "code",
      "source": [
        "import seaborn as sns\n",
        "import matplotlib.pyplot as plt"
      ],
      "metadata": {
        "id": "dDzXT7CL1uHv"
      },
      "execution_count": null,
      "outputs": []
    },
    {
      "cell_type": "code",
      "source": [
        "sns.distplot(df_yw_clean['co2'],kde=False)\n",
        "plt.show()"
      ],
      "metadata": {
        "colab": {
          "base_uri": "https://localhost:8080/",
          "height": 336
        },
        "id": "XRFpSDQZ1rpT",
        "outputId": "87d10606-1e50-4512-8b85-e84963b529df"
      },
      "execution_count": null,
      "outputs": [
        {
          "output_type": "stream",
          "name": "stderr",
          "text": [
            "/usr/local/lib/python3.8/dist-packages/seaborn/distributions.py:2619: FutureWarning: `distplot` is a deprecated function and will be removed in a future version. Please adapt your code to use either `displot` (a figure-level function with similar flexibility) or `histplot` (an axes-level function for histograms).\n",
            "  warnings.warn(msg, FutureWarning)\n"
          ]
        },
        {
          "output_type": "display_data",
          "data": {
            "text/plain": [
              "<Figure size 432x288 with 1 Axes>"
            ],
            "image/png": "[encoded data removed]"
          },
          "metadata": {
            "needs_background": "light"
          }
        }
      ]
    },
    {
      "cell_type": "code",
      "source": [
        "df_yw_clean.groupby('country')['co2'].sum().sort_values(ascending=False)"
      ],
      "metadata": {
        "colab": {
          "base_uri": "https://localhost:8080/"
        },
        "id": "rTjqtW0h3X8A",
        "outputId": "4fb0be6a-66d2-49a6-f798-85b8ad85cfa7"
      },
      "execution_count": null,
      "outputs": [
        {
          "output_type": "execute_result",
          "data": {
            "text/plain": [
              "country\n",
              "World                    1736930.030\n",
              "High-income countries     979685.131\n",
              "OECD (GCP)                956343.924\n",
              "Non-OECD (GCP)            732960.923\n",
              "Asia                      557596.539\n",
              "                            ...     \n",
              "Niue                           0.305\n",
              "Tuvalu                         0.283\n",
              "Puerto Rico                    0.209\n",
              "Leeward Islands (GCP)          0.179\n",
              "Antarctica                     0.157\n",
              "Name: co2, Length: 258, dtype: float64"
            ]
          },
          "metadata": {},
          "execution_count": 19
        }
      ]
    },
    {
      "cell_type": "code",
      "source": [
        "df_yw_clean.groupby('country')['co2'].sum().sort_values(ascending=False)[:20]"
      ],
      "metadata": {
        "colab": {
          "base_uri": "https://localhost:8080/"
        },
        "id": "QrMyJrCO356e",
        "outputId": "875706df-2269-4547-9575-aab24073b23e"
      },
      "execution_count": null,
      "outputs": [
        {
          "output_type": "execute_result",
          "data": {
            "text/plain": [
              "country\n",
              "World                            1736930.030\n",
              "High-income countries             979685.131\n",
              "OECD (GCP)                        956343.924\n",
              "Non-OECD (GCP)                    732960.923\n",
              "Asia                              557596.539\n",
              "Europe                            537244.203\n",
              "Europe (GCP)                      532852.249\n",
              "Upper-middle-income countries     524243.919\n",
              "Asia (GCP)                        485793.781\n",
              "North America                     484214.704\n",
              "North America (GCP)               476476.505\n",
              "United States                     421906.853\n",
              "European Union (28)               371700.364\n",
              "European Union (27)               293191.644\n",
              "European Union (27) (GCP)         292381.492\n",
              "Asia (excl. China and India)      251138.339\n",
              "China                             249352.817\n",
              "Europe (excl. EU-27)              244052.552\n",
              "Lower-middle-income countries     171724.875\n",
              "Europe (excl. EU-28)              165543.830\n",
              "Name: co2, dtype: float64"
            ]
          },
          "metadata": {},
          "execution_count": 20
        }
      ]
    },
    {
      "cell_type": "code",
      "source": [
        "df_yw_clean.groupby('country')['co2'].sum().sort_values(ascending=False)[1:20].plot(kind='bar')\n",
        "plt.title('Top 20 Countries in co2 emission from 1751 to 2021',fontweight='bold',fontsize=14)\n",
        "plt.ylabel('CO2 Emissions in Ton')"
      ],
      "metadata": {
        "colab": {
          "base_uri": "https://localhost:8080/",
          "height": 460
        },
        "id": "I_X0qQlp5G4B",
        "outputId": "348819e5-a39f-4f97-f130-603b0dede071"
      },
      "execution_count": null,
      "outputs": [
        {
          "output_type": "execute_result",
          "data": {
            "text/plain": [
              "Text(0, 0.5, 'CO2 Emissions in Ton')"
            ]
          },
          "metadata": {},
          "execution_count": 21
        },
        {
          "output_type": "display_data",
          "data": {
            "text/plain": [
              "<Figure size 432x288 with 1 Axes>"
            ],
            "image/png": "[encoded data removed]"
          },
          "metadata": {
            "needs_background": "light"
          }
        }
      ]
    },
    {
      "cell_type": "markdown",
      "source": [
        "# Now we will classify our data into time periods and analyze each one of them\n",
        "- Period1 smaller than or equal 1800 ( from 1751 to 1800)\n",
        "- Period2 smaller than or equal 1850 and greater than 1800 ( 1801 to 1850)\n",
        "- Period3 smaller than or equal 1900 and greater than 1850 ( 1851 to 1900)\n",
        "- Period4 smaller than or equal 1950 and greater than 1900 ( 1901 to 1950)\n",
        "- Period5 smaller than or equal 2000 and greater than 1950 ( 1951 to 2000)\n",
        "- Period6 greater than 2000"
      ],
      "metadata": {
        "id": "5NZBchqJ7gZI"
      }
    },
    {
      "cell_type": "code",
      "source": [
        "p1_c1=df_yw_clean['year']<=1800"
      ],
      "metadata": {
        "id": "aRTf93yR7wal"
      },
      "execution_count": null,
      "outputs": []
    },
    {
      "cell_type": "code",
      "source": [
        "period1=df_yw_clean[p1_c1]"
      ],
      "metadata": {
        "id": "sUJEIFnM8gGT"
      },
      "execution_count": null,
      "outputs": []
    },
    {
      "cell_type": "code",
      "source": [
        "p2_c1=df_yw_clean['year']<=1850\n",
        "p2_c2=df_yw_clean['year']>1800"
      ],
      "metadata": {
        "id": "YQ4KgVUC8qTu"
      },
      "execution_count": null,
      "outputs": []
    },
    {
      "cell_type": "code",
      "source": [
        "period2=df_yw_clean[p2_c1&p2_c2]"
      ],
      "metadata": {
        "id": "H7O0fs_U80Qi"
      },
      "execution_count": null,
      "outputs": []
    },
    {
      "cell_type": "code",
      "source": [
        "p3_c1=df_yw_clean['year']<=1900\n",
        "p3_c2=df_yw_clean['year']>1850"
      ],
      "metadata": {
        "id": "ZjA5C9oG8-rL"
      },
      "execution_count": null,
      "outputs": []
    },
    {
      "cell_type": "code",
      "source": [
        "period3=df_yw_clean[p3_c1&p3_c2]"
      ],
      "metadata": {
        "id": "Aoe2_nTB9LG8"
      },
      "execution_count": null,
      "outputs": []
    },
    {
      "cell_type": "code",
      "source": [
        "p4_c1=df_yw_clean['year']<=1950\n",
        "p4_c2=df_yw_clean['year']>1900"
      ],
      "metadata": {
        "id": "iD4oh4TS9Tb1"
      },
      "execution_count": null,
      "outputs": []
    },
    {
      "cell_type": "code",
      "source": [
        "period4=df_yw_clean[p4_c1&p4_c2]"
      ],
      "metadata": {
        "id": "WJTRsLMO9qIp"
      },
      "execution_count": null,
      "outputs": []
    },
    {
      "cell_type": "code",
      "source": [
        "p5_c1=df_yw_clean['year']<=2000\n",
        "p5_c2=df_yw_clean['year']>1950"
      ],
      "metadata": {
        "id": "1t9WZunI-Uur"
      },
      "execution_count": null,
      "outputs": []
    },
    {
      "cell_type": "code",
      "source": [
        "period5=df_yw_clean[p5_c1&p5_c2]"
      ],
      "metadata": {
        "id": "ABBS0wHA-tCh"
      },
      "execution_count": null,
      "outputs": []
    },
    {
      "cell_type": "code",
      "source": [
        "p6_c1=df_yw_clean['year']>2000"
      ],
      "metadata": {
        "id": "g86a6fjf-3KA"
      },
      "execution_count": null,
      "outputs": []
    },
    {
      "cell_type": "code",
      "source": [
        "period6=df_yw_clean[p6_c1]"
      ],
      "metadata": {
        "id": "uuroCe-G--U5"
      },
      "execution_count": null,
      "outputs": []
    },
    {
      "cell_type": "markdown",
      "source": [
        "# Now let's see Co2 emissions in each period grouped by country\n",
        "Period 1 from year 1751 to 1800"
      ],
      "metadata": {
        "id": "lM-Ma1ib_Kpy"
      }
    },
    {
      "cell_type": "code",
      "source": [
        "sns.distplot(period1['co2'],kde=False).set_title('Co2 emissions from 1751 to 1800 Histogram')\n",
        "plt.ylabel('CO2 emissions')\n",
        "plt.show()"
      ],
      "metadata": {
        "colab": {
          "base_uri": "https://localhost:8080/",
          "height": 295
        },
        "id": "I6ZbBzr0_N0f",
        "outputId": "0fb74619-9933-4bf8-86d1-264b9ce3ae0c"
      },
      "execution_count": null,
      "outputs": [
        {
          "output_type": "display_data",
          "data": {
            "text/plain": [
              "<Figure size 432x288 with 1 Axes>"
            ],
            "image/png": "[encoded data removed]"
          },
          "metadata": {
            "needs_background": "light"
          }
        }
      ]
    },
    {
      "cell_type": "code",
      "source": [
        "period1.groupby('country')['co2'].sum().sort_values(ascending=False)"
      ],
      "metadata": {
        "colab": {
          "base_uri": "https://localhost:8080/"
        },
        "id": "ZQ9ESwSO_-pU",
        "outputId": "90c9f940-3527-4bf5-ba3f-60d47c777919"
      },
      "execution_count": null,
      "outputs": [
        {
          "output_type": "execute_result",
          "data": {
            "text/plain": [
              "country\n",
              "World                            781.509\n",
              "High-income countries            781.509\n",
              "Europe                           781.199\n",
              "European Union (28)              781.199\n",
              "United Kingdom                   775.871\n",
              "Europe (excl. EU-27)             775.871\n",
              "European Union (27)                5.328\n",
              "Germany                            4.921\n",
              "Poland                             0.407\n",
              "North America                      0.316\n",
              "United States                      0.253\n",
              "North America (excl. USA)          0.064\n",
              "Canada                             0.064\n",
              "Oceania                            0.000\n",
              "Papua New Guinea                   0.000\n",
              "Sierra Leone                       0.000\n",
              "Reunion                            0.000\n",
              "Mauritania                         0.000\n",
              "Singapore                          0.000\n",
              "South America                      0.000\n",
              "Tuvalu                             0.000\n",
              "Upper-middle-income countries      0.000\n",
              "Mayotte                            0.000\n",
              "Africa                             0.000\n",
              "Martinique                         0.000\n",
              "Lower-middle-income countries      0.000\n",
              "Low-income countries               0.000\n",
              "Andorra                            0.000\n",
              "Guinea                             0.000\n",
              "Guadeloupe                         0.000\n",
              "French Guiana                      0.000\n",
              "Europe (excl. EU-28)               0.000\n",
              "Cote d'Ivoire                      0.000\n",
              "Cambodia                           0.000\n",
              "Brunei                             0.000\n",
              "Australia                          0.000\n",
              "Asia (excl. China and India)       0.000\n",
              "Asia                               0.000\n",
              "Iceland                            0.000\n",
              "Name: co2, dtype: float64"
            ]
          },
          "metadata": {},
          "execution_count": 35
        }
      ]
    },
    {
      "cell_type": "code",
      "source": [
        "period1.groupby('country')['co2'].sum().sort_values(ascending=False)[1:11].plot(kind='bar')\n",
        "plt.ylabel('CO2 Emissions')\n",
        "plt.title('Co2 emissions from year 1751 to 1800 by country',fontweight='bold')"
      ],
      "metadata": {
        "colab": {
          "base_uri": "https://localhost:8080/",
          "height": 415
        },
        "id": "kAQLEUCP_rYB",
        "outputId": "e4b187d8-141b-4ee3-9825-ebdd3dcd9095"
      },
      "execution_count": null,
      "outputs": [
        {
          "output_type": "execute_result",
          "data": {
            "text/plain": [
              "Text(0.5, 1.0, 'Co2 emissions from year 1751 to 1800 by country')"
            ]
          },
          "metadata": {},
          "execution_count": 36
        },
        {
          "output_type": "display_data",
          "data": {
            "text/plain": [
              "<Figure size 432x288 with 1 Axes>"
            ],
            "image/png": "[encoded data removed]"
          },
          "metadata": {
            "needs_background": "light"
          }
        }
      ]
    },
    {
      "cell_type": "code",
      "source": [
        "co2_1751_to1800=period1['co2'].sum()\n",
        "period1['co2'].sum()"
      ],
      "metadata": {
        "colab": {
          "base_uri": "https://localhost:8080/"
        },
        "id": "P7NgN-dACKyW",
        "outputId": "2dd50d52-3e3a-48c0-cae7-7a0a44aca392"
      },
      "execution_count": null,
      "outputs": [
        {
          "output_type": "execute_result",
          "data": {
            "text/plain": [
              "4688.511"
            ]
          },
          "metadata": {},
          "execution_count": 37
        }
      ]
    },
    {
      "cell_type": "markdown",
      "source": [
        "Period 2 from 1801 to 1850"
      ],
      "metadata": {
        "id": "MQbI5mJRCs1C"
      }
    },
    {
      "cell_type": "code",
      "source": [
        "sns.distplot(period2['co2'],kde=False).set_title('Co2 emissions from 1801 to 1850 Histogram')\n",
        "plt.ylabel('CO2 Emissions per tonnes')\n",
        "plt.show()"
      ],
      "metadata": {
        "colab": {
          "base_uri": "https://localhost:8080/",
          "height": 295
        },
        "id": "YN47ZqEtCirM",
        "outputId": "380a90cb-db23-4dab-ae8b-aa3ebb865e7d"
      },
      "execution_count": null,
      "outputs": [
        {
          "output_type": "display_data",
          "data": {
            "text/plain": [
              "<Figure size 432x288 with 1 Axes>"
            ],
            "image/png": "[encoded data removed]"
          },
          "metadata": {
            "needs_background": "light"
          }
        }
      ]
    },
    {
      "cell_type": "code",
      "source": [
        "period2.groupby('country')['co2'].sum().sort_values(ascending=False)[1:21]"
      ],
      "metadata": {
        "colab": {
          "base_uri": "https://localhost:8080/"
        },
        "id": "ov2qpunBC7tw",
        "outputId": "55407aa2-baf2-4ada-ce32-4ae1796690a4"
      },
      "execution_count": null,
      "outputs": [
        {
          "output_type": "execute_result",
          "data": {
            "text/plain": [
              "country\n",
              "High-income countries        3977.718\n",
              "Europe                       3787.788\n",
              "European Union (28)          3786.475\n",
              "Europe (excl. EU-27)         2928.767\n",
              "United Kingdom               2927.455\n",
              "European Union (27)           859.019\n",
              "France                        340.422\n",
              "Germany                       249.733\n",
              "OECD (GCP)                    196.784\n",
              "North America                 190.093\n",
              "United States                 189.718\n",
              "Europe (GCP)                  177.030\n",
              "Belgium                       150.497\n",
              "Poland                         62.956\n",
              "European Union (27) (GCP)      54.190\n",
              "Austria                        30.649\n",
              "North America (GCP)            19.852\n",
              "Netherlands                    16.854\n",
              "Spain                           2.745\n",
              "Denmark                         1.825\n",
              "Name: co2, dtype: float64"
            ]
          },
          "metadata": {},
          "execution_count": 39
        }
      ]
    },
    {
      "cell_type": "code",
      "source": [
        "period2.groupby('country')['co2'].sum().sort_values(ascending=False)[1:21].plot(kind='bar')\n",
        "plt.title('Co2 emissions from year 1801 to 1850 by country',fontweight='bold')\n",
        "plt.ylabel('CO2 Emissions in tonnes')"
      ],
      "metadata": {
        "colab": {
          "base_uri": "https://localhost:8080/",
          "height": 437
        },
        "id": "XNJRuGLWDKbm",
        "outputId": "ed4f86ce-6d03-4a58-9883-085a7b1a568a"
      },
      "execution_count": null,
      "outputs": [
        {
          "output_type": "execute_result",
          "data": {
            "text/plain": [
              "Text(0, 0.5, 'CO2 Emissions in tonnes')"
            ]
          },
          "metadata": {},
          "execution_count": 40
        },
        {
          "output_type": "display_data",
          "data": {
            "text/plain": [
              "<Figure size 432x288 with 1 Axes>"
            ],
            "image/png": "[encoded data removed]"
          },
          "metadata": {
            "needs_background": "light"
          }
        }
      ]
    },
    {
      "cell_type": "code",
      "source": [
        "co2_1801_to1850=period2['co2'].sum()\n",
        "period2['co2'].sum()"
      ],
      "metadata": {
        "colab": {
          "base_uri": "https://localhost:8080/"
        },
        "id": "UMhjpkJqD18W",
        "outputId": "a887507d-010d-4b07-a301-41f7ab3800a1"
      },
      "execution_count": null,
      "outputs": [
        {
          "output_type": "execute_result",
          "data": {
            "text/plain": [
              "23935.585"
            ]
          },
          "metadata": {},
          "execution_count": 41
        }
      ]
    },
    {
      "cell_type": "markdown",
      "source": [
        "Period 3 from 1851 to 1900"
      ],
      "metadata": {
        "id": "662JNJjoEFud"
      }
    },
    {
      "cell_type": "code",
      "source": [
        "sns.distplot(period3['co2'],kde=False).set_title('Co2 emissions from 1851 to 1900 Histogram')\n",
        "plt.ylabel('CO2 Emissions per tonnes')\n",
        "plt.show()"
      ],
      "metadata": {
        "colab": {
          "base_uri": "https://localhost:8080/",
          "height": 295
        },
        "id": "A74Eja2DEBYh",
        "outputId": "af664a82-c65b-4c3c-97b5-95e7106c0d65"
      },
      "execution_count": null,
      "outputs": [
        {
          "output_type": "display_data",
          "data": {
            "text/plain": [
              "<Figure size 432x288 with 1 Axes>"
            ],
            "image/png": "[encoded data removed]"
          },
          "metadata": {
            "needs_background": "light"
          }
        }
      ]
    },
    {
      "cell_type": "code",
      "source": [
        "period3.groupby('country')['co2'].sum().sort_values(ascending=False)[1:21]"
      ],
      "metadata": {
        "colab": {
          "base_uri": "https://localhost:8080/"
        },
        "id": "DHwolLN3EYGs",
        "outputId": "2fd90a96-3a48-486a-ce65-f871d37b3218"
      },
      "execution_count": null,
      "outputs": [
        {
          "output_type": "execute_result",
          "data": {
            "text/plain": [
              "country\n",
              "OECD (GCP)                       39081.454\n",
              "High-income countries            39078.294\n",
              "Europe (GCP)                     28691.009\n",
              "Europe                           28691.008\n",
              "European Union (28)              27881.248\n",
              "European Union (27) (GCP)        14841.062\n",
              "European Union (27)              14841.062\n",
              "Europe (excl. EU-27)             13849.939\n",
              "United Kingdom                   13040.185\n",
              "North America                    10761.820\n",
              "North America (GCP)              10761.820\n",
              "United States                    10474.478\n",
              "Germany                           6136.201\n",
              "France                            3370.042\n",
              "Belgium                           1357.425\n",
              "Poland                            1271.987\n",
              "Non-OECD (GCP)                     980.314\n",
              "Europe (excl. EU-28)               809.756\n",
              "Upper-middle-income countries      678.195\n",
              "Czechia                            638.151\n",
              "Name: co2, dtype: float64"
            ]
          },
          "metadata": {},
          "execution_count": 43
        }
      ]
    },
    {
      "cell_type": "code",
      "source": [
        "period3.groupby('country')['co2'].sum().sort_values(ascending=False)[1:21].plot(kind='bar')\n",
        "plt.ylabel('Co2 emissions in ton')\n",
        "plt.title('Co2 emissions from 1851 to 1900 per country',fontweight='bold')"
      ],
      "metadata": {
        "colab": {
          "base_uri": "https://localhost:8080/",
          "height": 459
        },
        "id": "9XMcFdziEjUu",
        "outputId": "5dbe1aed-52f1-4a4c-c30e-d62e2865d56f"
      },
      "execution_count": null,
      "outputs": [
        {
          "output_type": "execute_result",
          "data": {
            "text/plain": [
              "Text(0.5, 1.0, 'Co2 emissions from 1851 to 1900 per country')"
            ]
          },
          "metadata": {},
          "execution_count": 44
        },
        {
          "output_type": "display_data",
          "data": {
            "text/plain": [
              "<Figure size 432x288 with 1 Axes>"
            ],
            "image/png": "[encoded data removed]"
          },
          "metadata": {
            "needs_background": "light"
          }
        }
      ]
    },
    {
      "cell_type": "code",
      "source": [
        "co2_1851_to1900=period3['co2'].sum()\n",
        "period3['co2'].sum()"
      ],
      "metadata": {
        "colab": {
          "base_uri": "https://localhost:8080/"
        },
        "id": "8elsIF2LE9tE",
        "outputId": "a898d6c3-7aec-40b1-cbd6-9af87b8c252e"
      },
      "execution_count": null,
      "outputs": [
        {
          "output_type": "execute_result",
          "data": {
            "text/plain": [
              "313185.86399999994"
            ]
          },
          "metadata": {},
          "execution_count": 45
        }
      ]
    },
    {
      "cell_type": "markdown",
      "source": [
        "Period 4 from 1901 to 1950"
      ],
      "metadata": {
        "id": "4gXNWTIXFRKu"
      }
    },
    {
      "cell_type": "code",
      "source": [
        "period4.groupby('country')['co2'].sum().sort_values(ascending=False)[1:21]"
      ],
      "metadata": {
        "colab": {
          "base_uri": "https://localhost:8080/"
        },
        "id": "FuvHk6t5FOZK",
        "outputId": "4d8038e2-8987-4985-e677-917b21a5069e"
      },
      "execution_count": null,
      "outputs": [
        {
          "output_type": "execute_result",
          "data": {
            "text/plain": [
              "country\n",
              "OECD (GCP)                       164644.655\n",
              "High-income countries            164098.888\n",
              "North America                     87064.368\n",
              "North America (GCP)               86787.599\n",
              "Europe (GCP)                      81849.925\n",
              "Europe                            81849.924\n",
              "United States                     81323.379\n",
              "European Union (28)               72354.273\n",
              "European Union (27) (GCP)         49938.407\n",
              "European Union (27)               49938.407\n",
              "Europe (excl. EU-27)              31911.520\n",
              "Germany                           22799.843\n",
              "United Kingdom                    22415.866\n",
              "Non-OECD (GCP)                    21123.353\n",
              "Upper-middle-income countries     14996.032\n",
              "Asia                              12071.138\n",
              "Asia (GCP)                        10614.244\n",
              "Europe (excl. EU-28)               9495.654\n",
              "France                             8173.868\n",
              "Asia (excl. China and India)       7916.252\n",
              "Name: co2, dtype: float64"
            ]
          },
          "metadata": {},
          "execution_count": 46
        }
      ]
    },
    {
      "cell_type": "code",
      "source": [
        "period4.groupby('country')['co2'].sum().sort_values(ascending=False)[1:21].plot(kind='bar')\n",
        "plt.title('Top 10 coutries in emttiong co2 from 1901 to 1950',fontweight='bold')\n",
        "plt.ylabel('CO2 Emissions in tonnes')"
      ],
      "metadata": {
        "colab": {
          "base_uri": "https://localhost:8080/",
          "height": 459
        },
        "id": "vKMM8MR2FgJB",
        "outputId": "62ae814c-7ab0-458e-82d0-d644c637fd25"
      },
      "execution_count": null,
      "outputs": [
        {
          "output_type": "execute_result",
          "data": {
            "text/plain": [
              "Text(0, 0.5, 'CO2 Emissions in tonnes')"
            ]
          },
          "metadata": {},
          "execution_count": 47
        },
        {
          "output_type": "display_data",
          "data": {
            "text/plain": [
              "<Figure size 432x288 with 1 Axes>"
            ],
            "image/png": "[encoded data removed]"
          },
          "metadata": {
            "needs_background": "light"
          }
        }
      ]
    },
    {
      "cell_type": "code",
      "source": [
        "co2_1901_to1950=period4['co2'].sum()\n",
        "period4['co2'].sum()"
      ],
      "metadata": {
        "colab": {
          "base_uri": "https://localhost:8080/"
        },
        "id": "c8VzfNclGYVP",
        "outputId": "e963ee96-5610-4dc3-c51e-168f9070d334"
      },
      "execution_count": null,
      "outputs": [
        {
          "output_type": "execute_result",
          "data": {
            "text/plain": [
              "1341830.3939999999"
            ]
          },
          "metadata": {},
          "execution_count": 48
        }
      ]
    },
    {
      "cell_type": "markdown",
      "source": [
        "Period 5 from 1951 to 2000"
      ],
      "metadata": {
        "id": "LB7W6u7xGqQS"
      }
    },
    {
      "cell_type": "code",
      "source": [
        "period5.groupby('country')['co2'].sum().sort_values(ascending=False)[1:21]"
      ],
      "metadata": {
        "colab": {
          "base_uri": "https://localhost:8080/"
        },
        "id": "nQKu8pz5GvMW",
        "outputId": "a25be40f-827e-4982-bf7a-c60c2cc17ed6"
      },
      "execution_count": null,
      "outputs": [
        {
          "output_type": "execute_result",
          "data": {
            "text/plain": [
              "country\n",
              "High-income countries            485360.875\n",
              "OECD (GCP)                       478741.603\n",
              "Non-OECD (GCP)                   315638.194\n",
              "Europe                           297273.172\n",
              "Europe (GCP)                     297273.172\n",
              "North America                    243505.665\n",
              "North America (GCP)              239761.629\n",
              "Upper-middle-income countries    227874.910\n",
              "United States                    212407.277\n",
              "Asia                             200187.370\n",
              "European Union (28)              186962.657\n",
              "Asia (GCP)                       174571.516\n",
              "European Union (27) (GCP)        157645.694\n",
              "European Union (27)              157645.691\n",
              "Europe (excl. EU-27)             139627.485\n",
              "Europe (excl. EU-28)             110310.512\n",
              "Asia (excl. China and India)     109843.631\n",
              "Russia                            76845.068\n",
              "China                             73421.068\n",
              "Lower-middle-income countries     70637.013\n",
              "Name: co2, dtype: float64"
            ]
          },
          "metadata": {},
          "execution_count": 49
        }
      ]
    },
    {
      "cell_type": "code",
      "source": [
        "period5.groupby('country')['co2'].sum().sort_values(ascending=False)[1:21].plot(kind='bar')\n",
        "plt.title('Top 10 coutries in emttiong co2 from 1951 to 2000',fontweight='bold')\n",
        "plt.ylabel('CO2 Emissions in tonnes')"
      ],
      "metadata": {
        "colab": {
          "base_uri": "https://localhost:8080/",
          "height": 459
        },
        "id": "qMGuPCrJG5sR",
        "outputId": "ecaf3b8b-fa8a-4f8a-87f0-a3a8a510a6d9"
      },
      "execution_count": null,
      "outputs": [
        {
          "output_type": "execute_result",
          "data": {
            "text/plain": [
              "Text(0, 0.5, 'CO2 Emissions in tonnes')"
            ]
          },
          "metadata": {},
          "execution_count": 50
        },
        {
          "output_type": "display_data",
          "data": {
            "text/plain": [
              "<Figure size 432x288 with 1 Axes>"
            ],
            "image/png": "[encoded data removed]"
          },
          "metadata": {
            "needs_background": "light"
          }
        }
      ]
    },
    {
      "cell_type": "code",
      "source": [
        "co2_1951_to2000=period5['co2'].sum()\n",
        "period5['co2'].sum()"
      ],
      "metadata": {
        "colab": {
          "base_uri": "https://localhost:8080/"
        },
        "id": "SQ1oTfLhHHRS",
        "outputId": "6c3c6b91-94e2-43a2-ad52-7ab611700d3d"
      },
      "execution_count": null,
      "outputs": [
        {
          "output_type": "execute_result",
          "data": {
            "text/plain": [
              "5696913.524"
            ]
          },
          "metadata": {},
          "execution_count": 51
        }
      ]
    },
    {
      "cell_type": "markdown",
      "source": [
        "Period 6 from 2000 to 2017"
      ],
      "metadata": {
        "id": "st48UbvsHUQD"
      }
    },
    {
      "cell_type": "code",
      "source": [
        "period6.groupby('country')['co2'].sum().sort_values(ascending=False)[1:21]"
      ],
      "metadata": {
        "colab": {
          "base_uri": "https://localhost:8080/"
        },
        "id": "hMCA08D6HQf_",
        "outputId": "f9ca5d2e-ddc2-428d-afb9-c0f0e5234c1a"
      },
      "execution_count": null,
      "outputs": [
        {
          "output_type": "execute_result",
          "data": {
            "text/plain": [
              "country\n",
              "Non-OECD (GCP)                   395218.950\n",
              "Asia                             344918.150\n",
              "Asia (GCP)                       300199.218\n",
              "High-income countries            286387.847\n",
              "Upper-middle-income countries    280694.643\n",
              "OECD (GCP)                       273679.428\n",
              "China                            173660.590\n",
              "North America                    142692.442\n",
              "North America (GCP)              139145.605\n",
              "Asia (excl. China and India)     133073.581\n",
              "Europe (GCP)                     124861.113\n",
              "Europe                           124861.112\n",
              "United States                    117511.748\n",
              "Lower-middle-income countries     94606.839\n",
              "European Union (28)               79934.512\n",
              "European Union (27) (GCP)         69902.139\n",
              "European Union (27)               69902.137\n",
              "Europe (excl. EU-27)              54958.970\n",
              "Europe (excl. EU-28)              44926.597\n",
              "Middle East (GCP)                 44837.743\n",
              "Name: co2, dtype: float64"
            ]
          },
          "metadata": {},
          "execution_count": 52
        }
      ]
    },
    {
      "cell_type": "code",
      "source": [
        "period6.groupby('country')['co2'].sum().sort_values(ascending=False)[1:21].plot(kind='bar')\n",
        "plt.title('Top 10 coutries in emttiong co2 from 2000 to 2017',fontweight='bold')\n",
        "plt.ylabel('CO2 Emissions in tonnes')"
      ],
      "metadata": {
        "colab": {
          "base_uri": "https://localhost:8080/",
          "height": 459
        },
        "id": "y0BOqRyXHiN0",
        "outputId": "1c5df62b-61c9-449c-8d54-a82bd7cd1c83"
      },
      "execution_count": null,
      "outputs": [
        {
          "output_type": "execute_result",
          "data": {
            "text/plain": [
              "Text(0, 0.5, 'CO2 Emissions in tonnes')"
            ]
          },
          "metadata": {},
          "execution_count": 53
        },
        {
          "output_type": "display_data",
          "data": {
            "text/plain": [
              "<Figure size 432x288 with 1 Axes>"
            ],
            "image/png": "[encoded data removed]"
          },
          "metadata": {
            "needs_background": "light"
          }
        }
      ]
    },
    {
      "cell_type": "code",
      "source": [
        "co2_2000_to2017=period6['co2'].sum()\n",
        "period6['co2'].sum()"
      ],
      "metadata": {
        "colab": {
          "base_uri": "https://localhost:8080/"
        },
        "id": "8fpMcAbaHtDa",
        "outputId": "65859389-8d48-49d2-cb21-64ec59028a43"
      },
      "execution_count": null,
      "outputs": [
        {
          "output_type": "execute_result",
          "data": {
            "text/plain": [
              "4531692.638"
            ]
          },
          "metadata": {},
          "execution_count": 54
        }
      ]
    },
    {
      "cell_type": "code",
      "source": [
        "plt.bar([1,2,3,4,5,6],[co2_2000_to2017,co2_1951_to2000,co2_1901_to1950,co2_1851_to1900,co2_1801_to1850,co2_1751_to1800]\n",
        "       ,tick_label=['2000-2021','1951-2000','1950-1901','1851-1900','1801-1850','1751-1800'])\n",
        "plt.xlabel=('Time Frames')\n",
        "plt.ylabel=('CO2 Emissions in ton')\n",
        "plt.title('CO2 Emissions over different periods of time',fontweight='bold')\n",
        "plt.show()"
      ],
      "metadata": {
        "colab": {
          "base_uri": "https://localhost:8080/",
          "height": 281
        },
        "id": "15N4RjDJH2TM",
        "outputId": "b2118f86-7c9d-4171-c6ce-9afa4bf45493"
      },
      "execution_count": null,
      "outputs": [
        {
          "output_type": "display_data",
          "data": {
            "text/plain": [
              "<Figure size 432x288 with 1 Axes>"
            ],
            "image/png": "[encoded data removed]"
          },
          "metadata": {
            "needs_background": "light"
          }
        }
      ]
    }
  ]
}